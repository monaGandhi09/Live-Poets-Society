{
 "cells": [
  {
   "attachments": {},
   "cell_type": "markdown",
   "metadata": {},
   "source": [
    "# Statistics\n",
    "This notebook contains basic statistics for the datasets.\n"
   ]
  },
  {
   "attachments": {},
   "cell_type": "markdown",
   "metadata": {},
   "source": [
    "### Import Packages"
   ]
  },
  {
   "cell_type": "code",
   "execution_count": 1,
   "metadata": {},
   "outputs": [],
   "source": [
    "import pandas as pd"
   ]
  },
  {
   "attachments": {},
   "cell_type": "markdown",
   "metadata": {},
   "source": [
    "### Import Data"
   ]
  },
  {
   "cell_type": "code",
   "execution_count": 2,
   "metadata": {},
   "outputs": [],
   "source": [
    "df_books = pd.read_json(\"goodreads_books_poetry.json\", lines=True)\n",
    "df_interactions = pd.read_json(\"goodreads_interactions_poetry.json\", lines=True)\n",
    "df_reviews = pd.read_json(\"goodreads_reviews_poetry.json\", lines=True)\n",
    "df_authors = pd.read_json(\"goodreads_book_authors.json\", lines=True)\n",
    "df_series = pd.read_json(\"goodreads_book_series.json\", lines=True)"
   ]
  },
  {
   "attachments": {},
   "cell_type": "markdown",
   "metadata": {},
   "source": [
    "### df_books"
   ]
  },
  {
   "attachments": {},
   "cell_type": "markdown",
   "metadata": {},
   "source": [
    "We print basic information about the no. of rows and columns, column names, no. of non-null values for each column, and the column data types."
   ]
  },
  {
   "cell_type": "code",
   "execution_count": 8,
   "metadata": {},
   "outputs": [
    {
     "name": "stdout",
     "output_type": "stream",
     "text": [
      "<class 'pandas.core.frame.DataFrame'>\n",
      "RangeIndex: 36514 entries, 0 to 36513\n",
      "Data columns (total 29 columns):\n",
      " #   Column                Non-Null Count  Dtype  \n",
      "---  ------                --------------  -----  \n",
      " 0   isbn                  36514 non-null  object \n",
      " 1   text_reviews_count    36514 non-null  int64  \n",
      " 2   series                36514 non-null  object \n",
      " 3   country_code          36514 non-null  object \n",
      " 4   language_code         36514 non-null  object \n",
      " 5   popular_shelves       36514 non-null  object \n",
      " 6   asin                  36514 non-null  object \n",
      " 7   is_ebook              36514 non-null  object \n",
      " 8   average_rating        36514 non-null  float64\n",
      " 9   kindle_asin           36514 non-null  object \n",
      " 10  similar_books         36514 non-null  object \n",
      " 11  description           36514 non-null  object \n",
      " 12  format                36514 non-null  object \n",
      " 13  link                  36514 non-null  object \n",
      " 14  authors               36514 non-null  object \n",
      " 15  publisher             36514 non-null  object \n",
      " 16  num_pages             36514 non-null  object \n",
      " 17  publication_day       36514 non-null  object \n",
      " 18  isbn13                36514 non-null  object \n",
      " 19  publication_month     36514 non-null  object \n",
      " 20  edition_information   36514 non-null  object \n",
      " 21  publication_year      36514 non-null  object \n",
      " 22  url                   36514 non-null  object \n",
      " 23  image_url             36514 non-null  object \n",
      " 24  book_id               36514 non-null  int64  \n",
      " 25  ratings_count         36514 non-null  int64  \n",
      " 26  work_id               36514 non-null  int64  \n",
      " 27  title                 36514 non-null  object \n",
      " 28  title_without_series  36514 non-null  object \n",
      "dtypes: float64(1), int64(4), object(24)\n",
      "memory usage: 8.1+ MB\n"
     ]
    }
   ],
   "source": [
    "df_books.info()"
   ]
  },
  {
   "attachments": {},
   "cell_type": "markdown",
   "metadata": {},
   "source": [
    "From the above results it may seem like all values are non-null. This is however not the case and we have for example null-values masquerading as empty strings. We address the issue of null-values for each column in the data preprocessing. Also, we can see columns with descriptive statistics like `text_reviews_count`, `average_rating`, and `ratings_count`. It would perhaps be better to compute these statistics using queries/views rather than adding them directly to the table. Hence we drop these columns in the preprocessing.\n",
    "\n",
    "We now print the total memory usage of the dataframe in bytes."
   ]
  },
  {
   "cell_type": "code",
   "execution_count": 3,
   "metadata": {},
   "outputs": [
    {
     "name": "stdout",
     "output_type": "stream",
     "text": [
      "101594785 bytes\n"
     ]
    }
   ],
   "source": [
    "print(f\"{sum(df_books.memory_usage(deep=True))} bytes\")"
   ]
  },
  {
   "attachments": {},
   "cell_type": "markdown",
   "metadata": {},
   "source": [
    "We now print descriptive statistics for the columns."
   ]
  },
  {
   "cell_type": "code",
   "execution_count": 10,
   "metadata": {},
   "outputs": [
    {
     "data": {
      "text/html": [
       "<div>\n",
       "<style scoped>\n",
       "    .dataframe tbody tr th:only-of-type {\n",
       "        vertical-align: middle;\n",
       "    }\n",
       "\n",
       "    .dataframe tbody tr th {\n",
       "        vertical-align: top;\n",
       "    }\n",
       "\n",
       "    .dataframe thead th {\n",
       "        text-align: right;\n",
       "    }\n",
       "</style>\n",
       "<table border=\"1\" class=\"dataframe\">\n",
       "  <thead>\n",
       "    <tr style=\"text-align: right;\">\n",
       "      <th></th>\n",
       "      <th>text_reviews_count</th>\n",
       "      <th>average_rating</th>\n",
       "      <th>book_id</th>\n",
       "      <th>ratings_count</th>\n",
       "      <th>work_id</th>\n",
       "    </tr>\n",
       "  </thead>\n",
       "  <tbody>\n",
       "    <tr>\n",
       "      <th>count</th>\n",
       "      <td>36514.000000</td>\n",
       "      <td>36514.000000</td>\n",
       "      <td>3.651400e+04</td>\n",
       "      <td>3.651400e+04</td>\n",
       "      <td>3.651400e+04</td>\n",
       "    </tr>\n",
       "    <tr>\n",
       "      <th>mean</th>\n",
       "      <td>14.690886</td>\n",
       "      <td>4.063838</td>\n",
       "      <td>1.063452e+07</td>\n",
       "      <td>2.796882e+02</td>\n",
       "      <td>1.340161e+07</td>\n",
       "    </tr>\n",
       "    <tr>\n",
       "      <th>std</th>\n",
       "      <td>110.594374</td>\n",
       "      <td>0.399965</td>\n",
       "      <td>1.035345e+07</td>\n",
       "      <td>7.633414e+03</td>\n",
       "      <td>1.704974e+07</td>\n",
       "    </tr>\n",
       "    <tr>\n",
       "      <th>min</th>\n",
       "      <td>0.000000</td>\n",
       "      <td>0.000000</td>\n",
       "      <td>2.340000e+02</td>\n",
       "      <td>0.000000e+00</td>\n",
       "      <td>1.660000e+02</td>\n",
       "    </tr>\n",
       "    <tr>\n",
       "      <th>25%</th>\n",
       "      <td>2.000000</td>\n",
       "      <td>3.840000</td>\n",
       "      <td>1.185514e+06</td>\n",
       "      <td>9.000000e+00</td>\n",
       "      <td>9.307670e+05</td>\n",
       "    </tr>\n",
       "    <tr>\n",
       "      <th>50%</th>\n",
       "      <td>4.000000</td>\n",
       "      <td>4.100000</td>\n",
       "      <td>7.223308e+06</td>\n",
       "      <td>2.300000e+01</td>\n",
       "      <td>3.284191e+06</td>\n",
       "    </tr>\n",
       "    <tr>\n",
       "      <th>75%</th>\n",
       "      <td>9.000000</td>\n",
       "      <td>4.310000</td>\n",
       "      <td>1.821872e+07</td>\n",
       "      <td>6.900000e+01</td>\n",
       "      <td>2.165533e+07</td>\n",
       "    </tr>\n",
       "    <tr>\n",
       "      <th>max</th>\n",
       "      <td>10403.000000</td>\n",
       "      <td>5.000000</td>\n",
       "      <td>3.648548e+07</td>\n",
       "      <td>1.029527e+06</td>\n",
       "      <td>5.822964e+07</td>\n",
       "    </tr>\n",
       "  </tbody>\n",
       "</table>\n",
       "</div>"
      ],
      "text/plain": [
       "       text_reviews_count  average_rating       book_id  ratings_count  \\\n",
       "count        36514.000000    36514.000000  3.651400e+04   3.651400e+04   \n",
       "mean            14.690886        4.063838  1.063452e+07   2.796882e+02   \n",
       "std            110.594374        0.399965  1.035345e+07   7.633414e+03   \n",
       "min              0.000000        0.000000  2.340000e+02   0.000000e+00   \n",
       "25%              2.000000        3.840000  1.185514e+06   9.000000e+00   \n",
       "50%              4.000000        4.100000  7.223308e+06   2.300000e+01   \n",
       "75%              9.000000        4.310000  1.821872e+07   6.900000e+01   \n",
       "max          10403.000000        5.000000  3.648548e+07   1.029527e+06   \n",
       "\n",
       "            work_id  \n",
       "count  3.651400e+04  \n",
       "mean   1.340161e+07  \n",
       "std    1.704974e+07  \n",
       "min    1.660000e+02  \n",
       "25%    9.307670e+05  \n",
       "50%    3.284191e+06  \n",
       "75%    2.165533e+07  \n",
       "max    5.822964e+07  "
      ]
     },
     "execution_count": 10,
     "metadata": {},
     "output_type": "execute_result"
    }
   ],
   "source": [
    "df_books.describe()"
   ]
  },
  {
   "attachments": {},
   "cell_type": "markdown",
   "metadata": {},
   "source": [
    "### df_interactions"
   ]
  },
  {
   "attachments": {},
   "cell_type": "markdown",
   "metadata": {},
   "source": [
    "We print basic information about the no. of rows and columns, column names, no. of non-null values for each column, and the column data types."
   ]
  },
  {
   "cell_type": "code",
   "execution_count": 4,
   "metadata": {},
   "outputs": [
    {
     "name": "stdout",
     "output_type": "stream",
     "text": [
      "<class 'pandas.core.frame.DataFrame'>\n",
      "RangeIndex: 2734350 entries, 0 to 2734349\n",
      "Data columns (total 10 columns):\n",
      " #   Column                  Dtype \n",
      "---  ------                  ----- \n",
      " 0   user_id                 object\n",
      " 1   book_id                 int64 \n",
      " 2   review_id               object\n",
      " 3   is_read                 bool  \n",
      " 4   rating                  int64 \n",
      " 5   review_text_incomplete  object\n",
      " 6   date_added              object\n",
      " 7   date_updated            object\n",
      " 8   read_at                 object\n",
      " 9   started_at              object\n",
      "dtypes: bool(1), int64(2), object(7)\n",
      "memory usage: 190.4+ MB\n"
     ]
    }
   ],
   "source": [
    "df_interactions.info()"
   ]
  },
  {
   "attachments": {},
   "cell_type": "markdown",
   "metadata": {},
   "source": [
    "We now print the total memory usage of the dataframe in bytes."
   ]
  },
  {
   "cell_type": "code",
   "execution_count": 5,
   "metadata": {},
   "outputs": [
    {
     "name": "stdout",
     "output_type": "stream",
     "text": [
      "1542894381 bytes\n"
     ]
    }
   ],
   "source": [
    "print(f\"{sum(df_interactions.memory_usage(deep=True))} bytes\")"
   ]
  },
  {
   "attachments": {},
   "cell_type": "markdown",
   "metadata": {},
   "source": [
    "We now print descriptive statistics for the columns."
   ]
  },
  {
   "cell_type": "code",
   "execution_count": 13,
   "metadata": {},
   "outputs": [
    {
     "data": {
      "text/html": [
       "<div>\n",
       "<style scoped>\n",
       "    .dataframe tbody tr th:only-of-type {\n",
       "        vertical-align: middle;\n",
       "    }\n",
       "\n",
       "    .dataframe tbody tr th {\n",
       "        vertical-align: top;\n",
       "    }\n",
       "\n",
       "    .dataframe thead th {\n",
       "        text-align: right;\n",
       "    }\n",
       "</style>\n",
       "<table border=\"1\" class=\"dataframe\">\n",
       "  <thead>\n",
       "    <tr style=\"text-align: right;\">\n",
       "      <th></th>\n",
       "      <th>book_id</th>\n",
       "      <th>rating</th>\n",
       "    </tr>\n",
       "  </thead>\n",
       "  <tbody>\n",
       "    <tr>\n",
       "      <th>count</th>\n",
       "      <td>2.734350e+06</td>\n",
       "      <td>2.734350e+06</td>\n",
       "    </tr>\n",
       "    <tr>\n",
       "      <th>mean</th>\n",
       "      <td>6.808744e+06</td>\n",
       "      <td>1.824787e+00</td>\n",
       "    </tr>\n",
       "    <tr>\n",
       "      <th>std</th>\n",
       "      <td>9.698381e+06</td>\n",
       "      <td>2.123223e+00</td>\n",
       "    </tr>\n",
       "    <tr>\n",
       "      <th>min</th>\n",
       "      <td>2.340000e+02</td>\n",
       "      <td>0.000000e+00</td>\n",
       "    </tr>\n",
       "    <tr>\n",
       "      <th>25%</th>\n",
       "      <td>4.204000e+04</td>\n",
       "      <td>0.000000e+00</td>\n",
       "    </tr>\n",
       "    <tr>\n",
       "      <th>50%</th>\n",
       "      <td>5.922210e+05</td>\n",
       "      <td>0.000000e+00</td>\n",
       "    </tr>\n",
       "    <tr>\n",
       "      <th>75%</th>\n",
       "      <td>1.219330e+07</td>\n",
       "      <td>4.000000e+00</td>\n",
       "    </tr>\n",
       "    <tr>\n",
       "      <th>max</th>\n",
       "      <td>3.648548e+07</td>\n",
       "      <td>5.000000e+00</td>\n",
       "    </tr>\n",
       "  </tbody>\n",
       "</table>\n",
       "</div>"
      ],
      "text/plain": [
       "            book_id        rating\n",
       "count  2.734350e+06  2.734350e+06\n",
       "mean   6.808744e+06  1.824787e+00\n",
       "std    9.698381e+06  2.123223e+00\n",
       "min    2.340000e+02  0.000000e+00\n",
       "25%    4.204000e+04  0.000000e+00\n",
       "50%    5.922210e+05  0.000000e+00\n",
       "75%    1.219330e+07  4.000000e+00\n",
       "max    3.648548e+07  5.000000e+00"
      ]
     },
     "execution_count": 13,
     "metadata": {},
     "output_type": "execute_result"
    }
   ],
   "source": [
    "df_interactions.describe()"
   ]
  },
  {
   "attachments": {},
   "cell_type": "markdown",
   "metadata": {},
   "source": [
    "### df_reviews"
   ]
  },
  {
   "attachments": {},
   "cell_type": "markdown",
   "metadata": {},
   "source": [
    "We print basic information about the no. of rows and columns, column names, no. of non-null values for each column, and the column data types."
   ]
  },
  {
   "cell_type": "code",
   "execution_count": 6,
   "metadata": {},
   "outputs": [
    {
     "name": "stdout",
     "output_type": "stream",
     "text": [
      "<class 'pandas.core.frame.DataFrame'>\n",
      "RangeIndex: 154555 entries, 0 to 154554\n",
      "Data columns (total 11 columns):\n",
      " #   Column        Non-Null Count   Dtype \n",
      "---  ------        --------------   ----- \n",
      " 0   user_id       154555 non-null  object\n",
      " 1   book_id       154555 non-null  int64 \n",
      " 2   review_id     154555 non-null  object\n",
      " 3   rating        154555 non-null  int64 \n",
      " 4   review_text   154555 non-null  object\n",
      " 5   date_added    154555 non-null  object\n",
      " 6   date_updated  154555 non-null  object\n",
      " 7   read_at       154555 non-null  object\n",
      " 8   started_at    154555 non-null  object\n",
      " 9   n_votes       154555 non-null  int64 \n",
      " 10  n_comments    154555 non-null  int64 \n",
      "dtypes: int64(4), object(7)\n",
      "memory usage: 13.0+ MB\n"
     ]
    }
   ],
   "source": [
    "df_reviews.info()"
   ]
  },
  {
   "attachments": {},
   "cell_type": "markdown",
   "metadata": {},
   "source": [
    "As before, it may seem like all values are non-null. This is not necessarily the case and we address the issue of null-values for each column in the data preprocessing.\n",
    "\n",
    "We now print the total memory usage of the dataframe in bytes."
   ]
  },
  {
   "cell_type": "code",
   "execution_count": 7,
   "metadata": {},
   "outputs": [
    {
     "name": "stdout",
     "output_type": "stream",
     "text": [
      "175832277 bytes\n"
     ]
    }
   ],
   "source": [
    "print(f\"{sum(df_reviews.memory_usage(deep=True))} bytes\")"
   ]
  },
  {
   "attachments": {},
   "cell_type": "markdown",
   "metadata": {},
   "source": [
    "We now print descriptive statistics for the columns."
   ]
  },
  {
   "cell_type": "code",
   "execution_count": 16,
   "metadata": {},
   "outputs": [
    {
     "data": {
      "text/html": [
       "<div>\n",
       "<style scoped>\n",
       "    .dataframe tbody tr th:only-of-type {\n",
       "        vertical-align: middle;\n",
       "    }\n",
       "\n",
       "    .dataframe tbody tr th {\n",
       "        vertical-align: top;\n",
       "    }\n",
       "\n",
       "    .dataframe thead th {\n",
       "        text-align: right;\n",
       "    }\n",
       "</style>\n",
       "<table border=\"1\" class=\"dataframe\">\n",
       "  <thead>\n",
       "    <tr style=\"text-align: right;\">\n",
       "      <th></th>\n",
       "      <th>book_id</th>\n",
       "      <th>rating</th>\n",
       "      <th>n_votes</th>\n",
       "      <th>n_comments</th>\n",
       "    </tr>\n",
       "  </thead>\n",
       "  <tbody>\n",
       "    <tr>\n",
       "      <th>count</th>\n",
       "      <td>1.545550e+05</td>\n",
       "      <td>154555.000000</td>\n",
       "      <td>154555.000000</td>\n",
       "      <td>154555.000000</td>\n",
       "    </tr>\n",
       "    <tr>\n",
       "      <th>mean</th>\n",
       "      <td>1.023782e+07</td>\n",
       "      <td>3.815205</td>\n",
       "      <td>1.525632</td>\n",
       "      <td>0.252557</td>\n",
       "    </tr>\n",
       "    <tr>\n",
       "      <th>std</th>\n",
       "      <td>1.026113e+07</td>\n",
       "      <td>1.310501</td>\n",
       "      <td>7.232086</td>\n",
       "      <td>1.638360</td>\n",
       "    </tr>\n",
       "    <tr>\n",
       "      <th>min</th>\n",
       "      <td>2.340000e+02</td>\n",
       "      <td>0.000000</td>\n",
       "      <td>-1.000000</td>\n",
       "      <td>-1.000000</td>\n",
       "    </tr>\n",
       "    <tr>\n",
       "      <th>25%</th>\n",
       "      <td>5.226630e+05</td>\n",
       "      <td>3.000000</td>\n",
       "      <td>0.000000</td>\n",
       "      <td>0.000000</td>\n",
       "    </tr>\n",
       "    <tr>\n",
       "      <th>50%</th>\n",
       "      <td>6.928895e+06</td>\n",
       "      <td>4.000000</td>\n",
       "      <td>0.000000</td>\n",
       "      <td>0.000000</td>\n",
       "    </tr>\n",
       "    <tr>\n",
       "      <th>75%</th>\n",
       "      <td>1.822272e+07</td>\n",
       "      <td>5.000000</td>\n",
       "      <td>1.000000</td>\n",
       "      <td>0.000000</td>\n",
       "    </tr>\n",
       "    <tr>\n",
       "      <th>max</th>\n",
       "      <td>3.648548e+07</td>\n",
       "      <td>5.000000</td>\n",
       "      <td>1065.000000</td>\n",
       "      <td>168.000000</td>\n",
       "    </tr>\n",
       "  </tbody>\n",
       "</table>\n",
       "</div>"
      ],
      "text/plain": [
       "            book_id         rating        n_votes     n_comments\n",
       "count  1.545550e+05  154555.000000  154555.000000  154555.000000\n",
       "mean   1.023782e+07       3.815205       1.525632       0.252557\n",
       "std    1.026113e+07       1.310501       7.232086       1.638360\n",
       "min    2.340000e+02       0.000000      -1.000000      -1.000000\n",
       "25%    5.226630e+05       3.000000       0.000000       0.000000\n",
       "50%    6.928895e+06       4.000000       0.000000       0.000000\n",
       "75%    1.822272e+07       5.000000       1.000000       0.000000\n",
       "max    3.648548e+07       5.000000    1065.000000     168.000000"
      ]
     },
     "execution_count": 16,
     "metadata": {},
     "output_type": "execute_result"
    }
   ],
   "source": [
    "df_reviews.describe()"
   ]
  },
  {
   "attachments": {},
   "cell_type": "markdown",
   "metadata": {},
   "source": [
    "We can see that `rating` is in the range 0-5. Also, there are negative values for `n_votes` and `n_comments`. This should not be possible as these columns represent the no. of votes and no. of comments respectively. We address this in the data preprocessing."
   ]
  },
  {
   "attachments": {},
   "cell_type": "markdown",
   "metadata": {},
   "source": [
    "### df_authors"
   ]
  },
  {
   "attachments": {},
   "cell_type": "markdown",
   "metadata": {},
   "source": [
    "We print basic information about the no. of rows and columns, column names, no. of non-null values for each column, and the column data types."
   ]
  },
  {
   "cell_type": "code",
   "execution_count": 8,
   "metadata": {},
   "outputs": [
    {
     "name": "stdout",
     "output_type": "stream",
     "text": [
      "<class 'pandas.core.frame.DataFrame'>\n",
      "RangeIndex: 829529 entries, 0 to 829528\n",
      "Data columns (total 5 columns):\n",
      " #   Column              Non-Null Count   Dtype  \n",
      "---  ------              --------------   -----  \n",
      " 0   average_rating      829529 non-null  float64\n",
      " 1   author_id           829529 non-null  int64  \n",
      " 2   text_reviews_count  829529 non-null  int64  \n",
      " 3   name                829529 non-null  object \n",
      " 4   ratings_count       829529 non-null  int64  \n",
      "dtypes: float64(1), int64(3), object(1)\n",
      "memory usage: 31.6+ MB\n"
     ]
    }
   ],
   "source": [
    "df_authors.info()"
   ]
  },
  {
   "attachments": {},
   "cell_type": "markdown",
   "metadata": {},
   "source": [
    "As before, it may seem like all values are non-null. This is not necessarily the case and we address the issue of null-values for each column in the data preprocessing. Also, we can see columns with descriptive statistics like `average_rating`, `text_reviews_count` and `ratings_count`. It would perhaps be better to compute these statistics using queries/views rather than adding them directly to the table. Hence we drop these columns in the preprocessing.\n",
    "\n",
    "We now print the total memory usage of the dataframe in bytes."
   ]
  },
  {
   "cell_type": "code",
   "execution_count": 9,
   "metadata": {},
   "outputs": [
    {
     "name": "stdout",
     "output_type": "stream",
     "text": [
      "85650534 bytes\n"
     ]
    }
   ],
   "source": [
    "print(f\"{sum(df_authors.memory_usage(deep=True))} bytes\")"
   ]
  },
  {
   "attachments": {},
   "cell_type": "markdown",
   "metadata": {},
   "source": [
    "We now print descriptive statistics for the columns."
   ]
  },
  {
   "cell_type": "code",
   "execution_count": 19,
   "metadata": {},
   "outputs": [
    {
     "data": {
      "text/html": [
       "<div>\n",
       "<style scoped>\n",
       "    .dataframe tbody tr th:only-of-type {\n",
       "        vertical-align: middle;\n",
       "    }\n",
       "\n",
       "    .dataframe tbody tr th {\n",
       "        vertical-align: top;\n",
       "    }\n",
       "\n",
       "    .dataframe thead th {\n",
       "        text-align: right;\n",
       "    }\n",
       "</style>\n",
       "<table border=\"1\" class=\"dataframe\">\n",
       "  <thead>\n",
       "    <tr style=\"text-align: right;\">\n",
       "      <th></th>\n",
       "      <th>average_rating</th>\n",
       "      <th>author_id</th>\n",
       "      <th>text_reviews_count</th>\n",
       "      <th>ratings_count</th>\n",
       "    </tr>\n",
       "  </thead>\n",
       "  <tbody>\n",
       "    <tr>\n",
       "      <th>count</th>\n",
       "      <td>829529.000000</td>\n",
       "      <td>8.295290e+05</td>\n",
       "      <td>829529.000000</td>\n",
       "      <td>8.295290e+05</td>\n",
       "    </tr>\n",
       "    <tr>\n",
       "      <th>mean</th>\n",
       "      <td>3.844779</td>\n",
       "      <td>5.751610e+06</td>\n",
       "      <td>106.865331</td>\n",
       "      <td>1.595326e+03</td>\n",
       "    </tr>\n",
       "    <tr>\n",
       "      <th>std</th>\n",
       "      <td>0.603013</td>\n",
       "      <td>5.129977e+06</td>\n",
       "      <td>1770.225828</td>\n",
       "      <td>4.479669e+04</td>\n",
       "    </tr>\n",
       "    <tr>\n",
       "      <th>min</th>\n",
       "      <td>0.000000</td>\n",
       "      <td>3.000000e+00</td>\n",
       "      <td>0.000000</td>\n",
       "      <td>0.000000e+00</td>\n",
       "    </tr>\n",
       "    <tr>\n",
       "      <th>25%</th>\n",
       "      <td>3.580000</td>\n",
       "      <td>9.327180e+05</td>\n",
       "      <td>2.000000</td>\n",
       "      <td>8.000000e+00</td>\n",
       "    </tr>\n",
       "    <tr>\n",
       "      <th>50%</th>\n",
       "      <td>3.900000</td>\n",
       "      <td>4.952564e+06</td>\n",
       "      <td>6.000000</td>\n",
       "      <td>3.100000e+01</td>\n",
       "    </tr>\n",
       "    <tr>\n",
       "      <th>75%</th>\n",
       "      <td>4.170000</td>\n",
       "      <td>7.838936e+06</td>\n",
       "      <td>20.000000</td>\n",
       "      <td>1.310000e+02</td>\n",
       "    </tr>\n",
       "    <tr>\n",
       "      <th>max</th>\n",
       "      <td>5.000000</td>\n",
       "      <td>1.734337e+07</td>\n",
       "      <td>448570.000000</td>\n",
       "      <td>1.853272e+07</td>\n",
       "    </tr>\n",
       "  </tbody>\n",
       "</table>\n",
       "</div>"
      ],
      "text/plain": [
       "       average_rating     author_id  text_reviews_count  ratings_count\n",
       "count   829529.000000  8.295290e+05       829529.000000   8.295290e+05\n",
       "mean         3.844779  5.751610e+06          106.865331   1.595326e+03\n",
       "std          0.603013  5.129977e+06         1770.225828   4.479669e+04\n",
       "min          0.000000  3.000000e+00            0.000000   0.000000e+00\n",
       "25%          3.580000  9.327180e+05            2.000000   8.000000e+00\n",
       "50%          3.900000  4.952564e+06            6.000000   3.100000e+01\n",
       "75%          4.170000  7.838936e+06           20.000000   1.310000e+02\n",
       "max          5.000000  1.734337e+07       448570.000000   1.853272e+07"
      ]
     },
     "execution_count": 19,
     "metadata": {},
     "output_type": "execute_result"
    }
   ],
   "source": [
    "df_authors.describe()"
   ]
  },
  {
   "attachments": {},
   "cell_type": "markdown",
   "metadata": {},
   "source": [
    "### df_series"
   ]
  },
  {
   "attachments": {},
   "cell_type": "markdown",
   "metadata": {},
   "source": [
    "We print basic information about the no. of rows and columns, column names, no. of non-null values for each column, and the column data types."
   ]
  },
  {
   "cell_type": "code",
   "execution_count": 10,
   "metadata": {},
   "outputs": [
    {
     "name": "stdout",
     "output_type": "stream",
     "text": [
      "<class 'pandas.core.frame.DataFrame'>\n",
      "RangeIndex: 400390 entries, 0 to 400389\n",
      "Data columns (total 7 columns):\n",
      " #   Column              Non-Null Count   Dtype \n",
      "---  ------              --------------   ----- \n",
      " 0   numbered            400390 non-null  object\n",
      " 1   note                400390 non-null  object\n",
      " 2   description         400390 non-null  object\n",
      " 3   title               400390 non-null  object\n",
      " 4   series_works_count  400390 non-null  int64 \n",
      " 5   series_id           400390 non-null  int64 \n",
      " 6   primary_work_count  400390 non-null  int64 \n",
      "dtypes: int64(3), object(4)\n",
      "memory usage: 21.4+ MB\n"
     ]
    }
   ],
   "source": [
    "df_series.info()"
   ]
  },
  {
   "attachments": {},
   "cell_type": "markdown",
   "metadata": {},
   "source": [
    "As before, it may seem like all values are non-null. This is not necessarily the case and we address the issue of null-values for each column in the data preprocessing. Also, we can see columns with descriptive statistics like `series_works_count` and `primary_work_count`. It would perhaps be better to compute these statistics using queries/views rather than adding them directly to the table. Hence we drop these columns in the preprocessing.\n",
    "\n",
    "We now print the total memory usage of the dataframe in bytes."
   ]
  },
  {
   "cell_type": "code",
   "execution_count": 11,
   "metadata": {},
   "outputs": [
    {
     "name": "stdout",
     "output_type": "stream",
     "text": [
      "156037473 bytes\n"
     ]
    }
   ],
   "source": [
    "print(f\"{sum(df_series.memory_usage(deep=True))} bytes\")"
   ]
  },
  {
   "cell_type": "code",
   "execution_count": 22,
   "metadata": {},
   "outputs": [
    {
     "data": {
      "text/html": [
       "<div>\n",
       "<style scoped>\n",
       "    .dataframe tbody tr th:only-of-type {\n",
       "        vertical-align: middle;\n",
       "    }\n",
       "\n",
       "    .dataframe tbody tr th {\n",
       "        vertical-align: top;\n",
       "    }\n",
       "\n",
       "    .dataframe thead th {\n",
       "        text-align: right;\n",
       "    }\n",
       "</style>\n",
       "<table border=\"1\" class=\"dataframe\">\n",
       "  <thead>\n",
       "    <tr style=\"text-align: right;\">\n",
       "      <th></th>\n",
       "      <th>series_works_count</th>\n",
       "      <th>series_id</th>\n",
       "      <th>primary_work_count</th>\n",
       "    </tr>\n",
       "  </thead>\n",
       "  <tbody>\n",
       "    <tr>\n",
       "      <th>count</th>\n",
       "      <td>400390.000000</td>\n",
       "      <td>4.003900e+05</td>\n",
       "      <td>400390.000000</td>\n",
       "    </tr>\n",
       "    <tr>\n",
       "      <th>mean</th>\n",
       "      <td>21.588149</td>\n",
       "      <td>6.230450e+05</td>\n",
       "      <td>19.771653</td>\n",
       "    </tr>\n",
       "    <tr>\n",
       "      <th>std</th>\n",
       "      <td>65.103100</td>\n",
       "      <td>2.944453e+05</td>\n",
       "      <td>63.501377</td>\n",
       "    </tr>\n",
       "    <tr>\n",
       "      <th>min</th>\n",
       "      <td>-14.000000</td>\n",
       "      <td>1.443920e+05</td>\n",
       "      <td>0.000000</td>\n",
       "    </tr>\n",
       "    <tr>\n",
       "      <th>25%</th>\n",
       "      <td>3.000000</td>\n",
       "      <td>3.637372e+05</td>\n",
       "      <td>3.000000</td>\n",
       "    </tr>\n",
       "    <tr>\n",
       "      <th>50%</th>\n",
       "      <td>6.000000</td>\n",
       "      <td>6.158370e+05</td>\n",
       "      <td>5.000000</td>\n",
       "    </tr>\n",
       "    <tr>\n",
       "      <th>75%</th>\n",
       "      <td>14.000000</td>\n",
       "      <td>8.775648e+05</td>\n",
       "      <td>12.000000</td>\n",
       "    </tr>\n",
       "    <tr>\n",
       "      <th>max</th>\n",
       "      <td>893.000000</td>\n",
       "      <td>1.143859e+06</td>\n",
       "      <td>893.000000</td>\n",
       "    </tr>\n",
       "  </tbody>\n",
       "</table>\n",
       "</div>"
      ],
      "text/plain": [
       "       series_works_count     series_id  primary_work_count\n",
       "count       400390.000000  4.003900e+05       400390.000000\n",
       "mean            21.588149  6.230450e+05           19.771653\n",
       "std             65.103100  2.944453e+05           63.501377\n",
       "min            -14.000000  1.443920e+05            0.000000\n",
       "25%              3.000000  3.637372e+05            3.000000\n",
       "50%              6.000000  6.158370e+05            5.000000\n",
       "75%             14.000000  8.775648e+05           12.000000\n",
       "max            893.000000  1.143859e+06          893.000000"
      ]
     },
     "execution_count": 22,
     "metadata": {},
     "output_type": "execute_result"
    }
   ],
   "source": [
    "df_series.describe()"
   ]
  },
  {
   "cell_type": "code",
   "execution_count": null,
   "metadata": {},
   "outputs": [],
   "source": []
  }
 ],
 "metadata": {
  "kernelspec": {
   "display_name": "venv",
   "language": "python",
   "name": "python3"
  },
  "language_info": {
   "codemirror_mode": {
    "name": "ipython",
    "version": 3
   },
   "file_extension": ".py",
   "mimetype": "text/x-python",
   "name": "python",
   "nbconvert_exporter": "python",
   "pygments_lexer": "ipython3",
   "version": "3.10.9"
  },
  "orig_nbformat": 4
 },
 "nbformat": 4,
 "nbformat_minor": 2
}
